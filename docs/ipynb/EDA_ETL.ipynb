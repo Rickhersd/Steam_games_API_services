{
  "cells": [
    {
      "cell_type": "markdown",
      "metadata": {
        "id": "E_XenSAS44ix"
      },
      "source": [
        "# Eda y Preparacion de los Datos\n",
        "\n",
        "\n",
        "## **Carga de Librerias y dataset**"
      ]
    },
    {
      "cell_type": "code",
      "execution_count": 1,
      "metadata": {
        "colab": {
          "base_uri": "https://localhost:8080/",
          "height": 634
        },
        "id": "jKu-phUBoNJH",
        "outputId": "e993a0bc-5148-49c5-86cf-b28c77ac0412"
      },
      "outputs": [
        {
          "data": {
            "text/html": [
              "<div>\n",
              "<style scoped>\n",
              "    .dataframe tbody tr th:only-of-type {\n",
              "        vertical-align: middle;\n",
              "    }\n",
              "\n",
              "    .dataframe tbody tr th {\n",
              "        vertical-align: top;\n",
              "    }\n",
              "\n",
              "    .dataframe thead th {\n",
              "        text-align: right;\n",
              "    }\n",
              "</style>\n",
              "<table border=\"1\" class=\"dataframe\">\n",
              "  <thead>\n",
              "    <tr style=\"text-align: right;\">\n",
              "      <th></th>\n",
              "      <th>publisher</th>\n",
              "      <th>genres</th>\n",
              "      <th>app_name</th>\n",
              "      <th>title</th>\n",
              "      <th>url</th>\n",
              "      <th>release_date</th>\n",
              "      <th>tags</th>\n",
              "      <th>discount_price</th>\n",
              "      <th>reviews_url</th>\n",
              "      <th>specs</th>\n",
              "      <th>price</th>\n",
              "      <th>early_access</th>\n",
              "      <th>id</th>\n",
              "      <th>developer</th>\n",
              "      <th>sentiment</th>\n",
              "      <th>metascore</th>\n",
              "    </tr>\n",
              "  </thead>\n",
              "  <tbody>\n",
              "    <tr>\n",
              "      <th>0</th>\n",
              "      <td>Kotoshiro</td>\n",
              "      <td>['Action', 'Casual', 'Indie', 'Simulation', 'S...</td>\n",
              "      <td>Lost Summoner Kitty</td>\n",
              "      <td>Lost Summoner Kitty</td>\n",
              "      <td>http://store.steampowered.com/app/761140/Lost_...</td>\n",
              "      <td>2018-01-04</td>\n",
              "      <td>['Strategy', 'Action', 'Indie', 'Casual', 'Sim...</td>\n",
              "      <td>4.49</td>\n",
              "      <td>http://steamcommunity.com/app/761140/reviews/?...</td>\n",
              "      <td>['Single-player']</td>\n",
              "      <td>4.99</td>\n",
              "      <td>False</td>\n",
              "      <td>761140.0</td>\n",
              "      <td>Kotoshiro</td>\n",
              "      <td>NaN</td>\n",
              "      <td>NaN</td>\n",
              "    </tr>\n",
              "    <tr>\n",
              "      <th>1</th>\n",
              "      <td>Making Fun, Inc.</td>\n",
              "      <td>['Free to Play', 'Indie', 'RPG', 'Strategy']</td>\n",
              "      <td>Ironbound</td>\n",
              "      <td>Ironbound</td>\n",
              "      <td>http://store.steampowered.com/app/643980/Ironb...</td>\n",
              "      <td>2018-01-04</td>\n",
              "      <td>['Free to Play', 'Strategy', 'Indie', 'RPG', '...</td>\n",
              "      <td>NaN</td>\n",
              "      <td>http://steamcommunity.com/app/643980/reviews/?...</td>\n",
              "      <td>['Single-player', 'Multi-player', 'Online Mult...</td>\n",
              "      <td>Free To Play</td>\n",
              "      <td>False</td>\n",
              "      <td>643980.0</td>\n",
              "      <td>Secret Level SRL</td>\n",
              "      <td>Mostly Positive</td>\n",
              "      <td>NaN</td>\n",
              "    </tr>\n",
              "    <tr>\n",
              "      <th>2</th>\n",
              "      <td>Poolians.com</td>\n",
              "      <td>['Casual', 'Free to Play', 'Indie', 'Simulatio...</td>\n",
              "      <td>Real Pool 3D - Poolians</td>\n",
              "      <td>Real Pool 3D - Poolians</td>\n",
              "      <td>http://store.steampowered.com/app/670290/Real_...</td>\n",
              "      <td>2017-07-24</td>\n",
              "      <td>['Free to Play', 'Simulation', 'Sports', 'Casu...</td>\n",
              "      <td>NaN</td>\n",
              "      <td>http://steamcommunity.com/app/670290/reviews/?...</td>\n",
              "      <td>['Single-player', 'Multi-player', 'Online Mult...</td>\n",
              "      <td>Free to Play</td>\n",
              "      <td>False</td>\n",
              "      <td>670290.0</td>\n",
              "      <td>Poolians.com</td>\n",
              "      <td>Mostly Positive</td>\n",
              "      <td>NaN</td>\n",
              "    </tr>\n",
              "    <tr>\n",
              "      <th>3</th>\n",
              "      <td>彼岸领域</td>\n",
              "      <td>['Action', 'Adventure', 'Casual']</td>\n",
              "      <td>弹炸人2222</td>\n",
              "      <td>弹炸人2222</td>\n",
              "      <td>http://store.steampowered.com/app/767400/2222/</td>\n",
              "      <td>2017-12-07</td>\n",
              "      <td>['Action', 'Adventure', 'Casual']</td>\n",
              "      <td>0.83</td>\n",
              "      <td>http://steamcommunity.com/app/767400/reviews/?...</td>\n",
              "      <td>['Single-player']</td>\n",
              "      <td>0.99</td>\n",
              "      <td>False</td>\n",
              "      <td>767400.0</td>\n",
              "      <td>彼岸领域</td>\n",
              "      <td>NaN</td>\n",
              "      <td>NaN</td>\n",
              "    </tr>\n",
              "    <tr>\n",
              "      <th>4</th>\n",
              "      <td>NaN</td>\n",
              "      <td>NaN</td>\n",
              "      <td>Log Challenge</td>\n",
              "      <td>NaN</td>\n",
              "      <td>http://store.steampowered.com/app/773570/Log_C...</td>\n",
              "      <td>NaN</td>\n",
              "      <td>['Action', 'Indie', 'Casual', 'Sports']</td>\n",
              "      <td>1.79</td>\n",
              "      <td>http://steamcommunity.com/app/773570/reviews/?...</td>\n",
              "      <td>['Single-player', 'Full controller support', '...</td>\n",
              "      <td>2.99</td>\n",
              "      <td>False</td>\n",
              "      <td>773570.0</td>\n",
              "      <td>NaN</td>\n",
              "      <td>NaN</td>\n",
              "      <td>NaN</td>\n",
              "    </tr>\n",
              "  </tbody>\n",
              "</table>\n",
              "</div>"
            ],
            "text/plain": [
              "          publisher                                             genres  \\\n",
              "0         Kotoshiro  ['Action', 'Casual', 'Indie', 'Simulation', 'S...   \n",
              "1  Making Fun, Inc.       ['Free to Play', 'Indie', 'RPG', 'Strategy']   \n",
              "2      Poolians.com  ['Casual', 'Free to Play', 'Indie', 'Simulatio...   \n",
              "3              彼岸领域                  ['Action', 'Adventure', 'Casual']   \n",
              "4               NaN                                                NaN   \n",
              "\n",
              "                  app_name                    title  \\\n",
              "0      Lost Summoner Kitty      Lost Summoner Kitty   \n",
              "1                Ironbound                Ironbound   \n",
              "2  Real Pool 3D - Poolians  Real Pool 3D - Poolians   \n",
              "3                  弹炸人2222                  弹炸人2222   \n",
              "4            Log Challenge                      NaN   \n",
              "\n",
              "                                                 url release_date  \\\n",
              "0  http://store.steampowered.com/app/761140/Lost_...   2018-01-04   \n",
              "1  http://store.steampowered.com/app/643980/Ironb...   2018-01-04   \n",
              "2  http://store.steampowered.com/app/670290/Real_...   2017-07-24   \n",
              "3     http://store.steampowered.com/app/767400/2222/   2017-12-07   \n",
              "4  http://store.steampowered.com/app/773570/Log_C...          NaN   \n",
              "\n",
              "                                                tags  discount_price  \\\n",
              "0  ['Strategy', 'Action', 'Indie', 'Casual', 'Sim...            4.49   \n",
              "1  ['Free to Play', 'Strategy', 'Indie', 'RPG', '...             NaN   \n",
              "2  ['Free to Play', 'Simulation', 'Sports', 'Casu...             NaN   \n",
              "3                  ['Action', 'Adventure', 'Casual']            0.83   \n",
              "4            ['Action', 'Indie', 'Casual', 'Sports']            1.79   \n",
              "\n",
              "                                         reviews_url  \\\n",
              "0  http://steamcommunity.com/app/761140/reviews/?...   \n",
              "1  http://steamcommunity.com/app/643980/reviews/?...   \n",
              "2  http://steamcommunity.com/app/670290/reviews/?...   \n",
              "3  http://steamcommunity.com/app/767400/reviews/?...   \n",
              "4  http://steamcommunity.com/app/773570/reviews/?...   \n",
              "\n",
              "                                               specs         price  \\\n",
              "0                                  ['Single-player']          4.99   \n",
              "1  ['Single-player', 'Multi-player', 'Online Mult...  Free To Play   \n",
              "2  ['Single-player', 'Multi-player', 'Online Mult...  Free to Play   \n",
              "3                                  ['Single-player']          0.99   \n",
              "4  ['Single-player', 'Full controller support', '...          2.99   \n",
              "\n",
              "   early_access        id         developer        sentiment  metascore  \n",
              "0         False  761140.0         Kotoshiro              NaN        NaN  \n",
              "1         False  643980.0  Secret Level SRL  Mostly Positive        NaN  \n",
              "2         False  670290.0      Poolians.com  Mostly Positive        NaN  \n",
              "3         False  767400.0              彼岸领域              NaN        NaN  \n",
              "4         False  773570.0               NaN              NaN        NaN  "
            ]
          },
          "execution_count": 1,
          "metadata": {},
          "output_type": "execute_result"
        }
      ],
      "source": [
        "import ast\n",
        "import pandas as pd\n",
        "import numpy as np\n",
        "import matplotlib.pyplot as plt\n",
        "import seaborn as sns\n",
        "import pickle\n",
        "\n",
        "df_games = pd.read_csv('./server/pkl/steam_games_PI.csv', index_col=[0])\n",
        "df_games.head(5)"
      ]
    },
    {
      "cell_type": "markdown",
      "metadata": {
        "id": "Qowu58eKKPMf"
      },
      "source": [
        "### **Consideraciones**\n",
        "\n",
        "De acuerdo a a previsualización anterioir, la gran parte de los datos corersponden a dato valores, os cuales, por Lotanto, antes de realziar el modelo, se prevee una dificultad para que el modelo sea preciso, puesto que no hay variable\n",
        "\n",
        "El Modleo de prediccion de preciso da como inputs valores numericos continuos, y para poder obtener un modelo preciso, se rquiere el entrenamientos de variables continuas numericas qeu vayan correlaccionas con el precio. En cambio, se disponen de variables categoricas, las cuales podrian definir diferentes rangos de percios, pero no explciar.\n",
        "\n",
        "Es por ello, que se deberá aprovechar a maximo la obtencion de variables numericas que una correlacion linela."
      ]
    },
    {
      "cell_type": "code",
      "execution_count": null,
      "metadata": {
        "colab": {
          "base_uri": "https://localhost:8080/"
        },
        "id": "arYj4fX-2cOA",
        "outputId": "4a0c8571-e993-4d91-c3c4-a4901a470fe8"
      },
      "outputs": [
        {
          "name": "stdout",
          "output_type": "stream",
          "text": [
            "Mounted at /content/drive\n"
          ]
        }
      ],
      "source": [
        "from google.colab import drive\n",
        "drive.mount('/content/drive')"
      ]
    },
    {
      "cell_type": "markdown",
      "metadata": {
        "id": "2OktkFKAMJ4K"
      },
      "source": [
        "## **Utilidades**\n",
        "\n",
        "Dentro del archivo utils, se encuentran una serie de funciones que fueron utuilidas para la transformacion de datos"
      ]
    },
    {
      "cell_type": "code",
      "execution_count": 16,
      "metadata": {
        "id": "4deO_G00zc_j"
      },
      "outputs": [],
      "source": [
        "from sklearn import preprocessing\n",
        "from ast import literal_eval\n",
        "\n",
        "def label_encode_columns(df, columns):\n",
        "    \"\"\"\n",
        "    Esta funcion recibe un dataframe y hace un label encoding\n",
        "    \"\"\"\n",
        "    encoding_dict = {}\n",
        "    for col in columns:\n",
        "        le = preprocessing.LabelEncoder()\n",
        "        df[col] = le.fit_transform(df[col])\n",
        "        encoding_dict[col] = dict(zip(le.classes_, le.transform(le.classes_)))\n",
        "    return encoding_dict\n",
        "\n",
        "def get_list_elements(df, column):\n",
        "    df = df.copy()\n",
        "    elements_dict = {}\n",
        "\n",
        "    def read_list(el_list):\n",
        "        if isinstance(el_list, str):\n",
        "            for el in list(literal_eval(el_list)):\n",
        "                if el in elements_dict :\n",
        "                    elements_dict[el] += 1\n",
        "                else:\n",
        "                    elements_dict[el] = 1\n",
        "\n",
        "    df[column].map(lambda x: read_list(x))\n",
        "    return elements_dict\n",
        "\n",
        "def element_in_list(list_str, tag):\n",
        "    if isinstance(list_str, str):\n",
        "        list_str = list(literal_eval(list_str))\n",
        "        if tag in list_str :\n",
        "            return 1\n",
        "        else:\n",
        "            return 0\n",
        "    else:\n",
        "        return 0\n",
        "\n",
        "def tag_to_hot_encoding(df, column, tag):\n",
        "    df[tag] = df[column].map(lambda el_list: element_in_list(el_list, tag))\n",
        "\n",
        "def delete_row_by_tag(df, list_column, tags):\n",
        "\n",
        "  def read_list(el_list):\n",
        "    if isinstance(el_list, str):\n",
        "      list_of_tags = list(literal_eval(el_list))\n",
        "      for tag in tags:\n",
        "        if tag in list_of_tags:\n",
        "          return True\n",
        "    return False\n",
        "\n",
        "  df['is_deleted'] = df[list_column].map(lambda x: read_list(x))\n",
        "  df = df[~df['is_deleted']]\n",
        "  df = df.drop(['is_deleted'], axis=1)\n",
        "\n",
        "def create_column_tags(df, list_column, new_column, tags):\n",
        "\n",
        "  def read_list(el_list):\n",
        "    if isinstance(el_list, str):\n",
        "      list_of_tags = list(literal_eval(el_list))\n",
        "      for tag in tags:\n",
        "        if tag in list_of_tags:\n",
        "          return 1\n",
        "    return 0\n",
        "\n",
        "  df[new_column] = df[list_column].map(lambda x: read_list(x))\n",
        "\n",
        "def number_of_items(df, list_column):\n",
        "\n",
        "  def read_list(el_list):\n",
        "    if isinstance(el_list, str):\n",
        "      list_of_tags = list(literal_eval(el_list))\n",
        "      return len(list_of_tags)\n",
        "    return 0\n",
        "\n",
        "  column_name = 'Number_of_' + list_column\n",
        "  df[column_name] = df[list_column].map(lambda x: read_list(x))"
      ]
    },
    {
      "cell_type": "markdown",
      "metadata": {
        "id": "LZY983zuoNJ-"
      },
      "source": [
        "## **Columnas Innecesarias**"
      ]
    },
    {
      "cell_type": "markdown",
      "metadata": {
        "id": "KbuLGjRaMZAg"
      },
      "source": [
        "La idea del modelo, es que logre predecir el precio en base a la caracteristicas tenicas propias del videojuegos: como el genero, las especficaciones, el año del lanazamiento.Se consideraron incesasarias las siguientes columnas:\n",
        "\n",
        "- Url\n",
        "- Reviews_url\n",
        "- Developer\n",
        "- Discount_price\n",
        "- Publisher\n",
        "- Id\n",
        "- App_name\n",
        "- Title"
      ]
    },
    {
      "cell_type": "code",
      "execution_count": 4,
      "metadata": {
        "id": "WMcGfSmooNJ_"
      },
      "outputs": [],
      "source": [
        "cols_to_drop = [\n",
        "  'url',\n",
        "  'reviews_url',\n",
        "  'developer',\n",
        "  'discount_price',\n",
        "  'publisher',\n",
        "  'id',\n",
        "  'app_name',\n",
        "  'title'\n",
        "]\n",
        "\n",
        "df_games = df_games.dropna(subset=['metascore',])\n",
        "df_games = df_games.drop(cols_to_drop, axis=1)"
      ]
    },
    {
      "cell_type": "markdown",
      "metadata": {
        "id": "2xoHlF52rWd0"
      },
      "source": [
        "## **Valores Nulos y Duplicados**"
      ]
    },
    {
      "cell_type": "markdown",
      "metadata": {
        "id": "hp2x73ey5oFM"
      },
      "source": [
        "Habiendo hecho la seleccion previa de la muestra del dataset, los valores se distribuyeron de la siguiente manera."
      ]
    },
    {
      "cell_type": "code",
      "execution_count": 5,
      "metadata": {
        "colab": {
          "base_uri": "https://localhost:8080/"
        },
        "id": "o1SLZBSGTvkV",
        "outputId": "f5a70cbf-81d4-40e0-cb60-56c106afc134"
      },
      "outputs": [
        {
          "data": {
            "text/plain": [
              "genres          62\n",
              "release_date    54\n",
              "tags             1\n",
              "specs            4\n",
              "price           23\n",
              "early_access     0\n",
              "sentiment       21\n",
              "metascore        0\n",
              "dtype: int64"
            ]
          },
          "execution_count": 5,
          "metadata": {},
          "output_type": "execute_result"
        }
      ],
      "source": [
        "df_games.isna().sum()\n"
      ]
    },
    {
      "cell_type": "code",
      "execution_count": 6,
      "metadata": {
        "colab": {
          "base_uri": "https://localhost:8080/",
          "height": 1000
        },
        "id": "zk5PVMGwjny6",
        "outputId": "139ff208-10f2-4103-cf2f-792405cbdb1a"
      },
      "outputs": [
        {
          "data": {
            "text/html": [
              "<div>\n",
              "<style scoped>\n",
              "    .dataframe tbody tr th:only-of-type {\n",
              "        vertical-align: middle;\n",
              "    }\n",
              "\n",
              "    .dataframe tbody tr th {\n",
              "        vertical-align: top;\n",
              "    }\n",
              "\n",
              "    .dataframe thead th {\n",
              "        text-align: right;\n",
              "    }\n",
              "</style>\n",
              "<table border=\"1\" class=\"dataframe\">\n",
              "  <thead>\n",
              "    <tr style=\"text-align: right;\">\n",
              "      <th></th>\n",
              "      <th>genres</th>\n",
              "      <th>release_date</th>\n",
              "      <th>tags</th>\n",
              "      <th>specs</th>\n",
              "      <th>price</th>\n",
              "      <th>early_access</th>\n",
              "      <th>sentiment</th>\n",
              "      <th>metascore</th>\n",
              "    </tr>\n",
              "  </thead>\n",
              "  <tbody>\n",
              "    <tr>\n",
              "      <th>28</th>\n",
              "      <td>['Action']</td>\n",
              "      <td>1998-11-08</td>\n",
              "      <td>['FPS', 'Classic', 'Action', 'Sci-fi', 'Single...</td>\n",
              "      <td>['Single-player', 'Multi-player', 'Valve Anti-...</td>\n",
              "      <td>9.99</td>\n",
              "      <td>False</td>\n",
              "      <td>Overwhelmingly Positive</td>\n",
              "      <td>96.0</td>\n",
              "    </tr>\n",
              "    <tr>\n",
              "      <th>39</th>\n",
              "      <td>['Strategy']</td>\n",
              "      <td>2006-07-06</td>\n",
              "      <td>['Turn-Based Strategy', 'Strategy', 'Classic',...</td>\n",
              "      <td>['Single-player', 'Multi-player', 'Co-op']</td>\n",
              "      <td>6.99</td>\n",
              "      <td>False</td>\n",
              "      <td>Mostly Positive</td>\n",
              "      <td>84.0</td>\n",
              "    </tr>\n",
              "    <tr>\n",
              "      <th>40</th>\n",
              "      <td>['Strategy']</td>\n",
              "      <td>2006-07-06</td>\n",
              "      <td>['Strategy', 'Turn-Based Strategy', 'Fantasy',...</td>\n",
              "      <td>['Single-player', 'Multi-player', 'Co-op']</td>\n",
              "      <td>6.99</td>\n",
              "      <td>False</td>\n",
              "      <td>Very Positive</td>\n",
              "      <td>80.0</td>\n",
              "    </tr>\n",
              "    <tr>\n",
              "      <th>41</th>\n",
              "      <td>['Action', 'Indie', 'RPG']</td>\n",
              "      <td>2006-07-11</td>\n",
              "      <td>['Multiplayer', 'Indie', 'Action', 'First-Pers...</td>\n",
              "      <td>['Single-player', 'Multi-player', 'Steam Tradi...</td>\n",
              "      <td>9.99</td>\n",
              "      <td>False</td>\n",
              "      <td>Very Positive</td>\n",
              "      <td>76.0</td>\n",
              "    </tr>\n",
              "    <tr>\n",
              "      <th>55</th>\n",
              "      <td>['Action']</td>\n",
              "      <td>2005-08-09</td>\n",
              "      <td>['Action', 'Sci-fi', 'Story Rich', 'Singleplay...</td>\n",
              "      <td>['Single-player', 'Steam Trading Cards']</td>\n",
              "      <td>9.99</td>\n",
              "      <td>False</td>\n",
              "      <td>Mostly Positive</td>\n",
              "      <td>70.0</td>\n",
              "    </tr>\n",
              "    <tr>\n",
              "      <th>...</th>\n",
              "      <td>...</td>\n",
              "      <td>...</td>\n",
              "      <td>...</td>\n",
              "      <td>...</td>\n",
              "      <td>...</td>\n",
              "      <td>...</td>\n",
              "      <td>...</td>\n",
              "      <td>...</td>\n",
              "    </tr>\n",
              "    <tr>\n",
              "      <th>32109</th>\n",
              "      <td>['Action']</td>\n",
              "      <td>2001-06-01</td>\n",
              "      <td>['FPS', 'Action', 'Sci-fi', 'Singleplayer', 'S...</td>\n",
              "      <td>['Single-player']</td>\n",
              "      <td>4.99</td>\n",
              "      <td>False</td>\n",
              "      <td>Very Positive</td>\n",
              "      <td>71.0</td>\n",
              "    </tr>\n",
              "    <tr>\n",
              "      <th>32112</th>\n",
              "      <td>['Action', 'Adventure']</td>\n",
              "      <td>2002-08-28</td>\n",
              "      <td>['Action', 'Adventure', 'Violent', 'Story Rich...</td>\n",
              "      <td>['Single-player']</td>\n",
              "      <td>14.99</td>\n",
              "      <td>False</td>\n",
              "      <td>Overwhelmingly Positive</td>\n",
              "      <td>88.0</td>\n",
              "    </tr>\n",
              "    <tr>\n",
              "      <th>32114</th>\n",
              "      <td>['Action']</td>\n",
              "      <td>2003-05-01</td>\n",
              "      <td>['FPS', 'World War II', 'Multiplayer', 'Action...</td>\n",
              "      <td>['Multi-player', 'Valve Anti-Cheat enabled']</td>\n",
              "      <td>4.99</td>\n",
              "      <td>False</td>\n",
              "      <td>Very Positive</td>\n",
              "      <td>79.0</td>\n",
              "    </tr>\n",
              "    <tr>\n",
              "      <th>32116</th>\n",
              "      <td>['Action']</td>\n",
              "      <td>2004-03-16</td>\n",
              "      <td>['FPS', 'Arena Shooter', 'Action', 'Classic', ...</td>\n",
              "      <td>['Single-player', 'Multi-player', 'Steam Tradi...</td>\n",
              "      <td>14.99</td>\n",
              "      <td>False</td>\n",
              "      <td>Overwhelmingly Positive</td>\n",
              "      <td>93.0</td>\n",
              "    </tr>\n",
              "    <tr>\n",
              "      <th>32117</th>\n",
              "      <td>['Action']</td>\n",
              "      <td>2004-03-01</td>\n",
              "      <td>['Action', 'FPS', 'Shooter', 'Multiplayer', 'S...</td>\n",
              "      <td>['Single-player', 'Multi-player', 'Valve Anti-...</td>\n",
              "      <td>9.99</td>\n",
              "      <td>False</td>\n",
              "      <td>Very Positive</td>\n",
              "      <td>65.0</td>\n",
              "    </tr>\n",
              "  </tbody>\n",
              "</table>\n",
              "<p>2603 rows × 8 columns</p>\n",
              "</div>"
            ],
            "text/plain": [
              "                           genres release_date  \\\n",
              "28                     ['Action']   1998-11-08   \n",
              "39                   ['Strategy']   2006-07-06   \n",
              "40                   ['Strategy']   2006-07-06   \n",
              "41     ['Action', 'Indie', 'RPG']   2006-07-11   \n",
              "55                     ['Action']   2005-08-09   \n",
              "...                           ...          ...   \n",
              "32109                  ['Action']   2001-06-01   \n",
              "32112     ['Action', 'Adventure']   2002-08-28   \n",
              "32114                  ['Action']   2003-05-01   \n",
              "32116                  ['Action']   2004-03-16   \n",
              "32117                  ['Action']   2004-03-01   \n",
              "\n",
              "                                                    tags  \\\n",
              "28     ['FPS', 'Classic', 'Action', 'Sci-fi', 'Single...   \n",
              "39     ['Turn-Based Strategy', 'Strategy', 'Classic',...   \n",
              "40     ['Strategy', 'Turn-Based Strategy', 'Fantasy',...   \n",
              "41     ['Multiplayer', 'Indie', 'Action', 'First-Pers...   \n",
              "55     ['Action', 'Sci-fi', 'Story Rich', 'Singleplay...   \n",
              "...                                                  ...   \n",
              "32109  ['FPS', 'Action', 'Sci-fi', 'Singleplayer', 'S...   \n",
              "32112  ['Action', 'Adventure', 'Violent', 'Story Rich...   \n",
              "32114  ['FPS', 'World War II', 'Multiplayer', 'Action...   \n",
              "32116  ['FPS', 'Arena Shooter', 'Action', 'Classic', ...   \n",
              "32117  ['Action', 'FPS', 'Shooter', 'Multiplayer', 'S...   \n",
              "\n",
              "                                                   specs  price  early_access  \\\n",
              "28     ['Single-player', 'Multi-player', 'Valve Anti-...   9.99         False   \n",
              "39            ['Single-player', 'Multi-player', 'Co-op']   6.99         False   \n",
              "40            ['Single-player', 'Multi-player', 'Co-op']   6.99         False   \n",
              "41     ['Single-player', 'Multi-player', 'Steam Tradi...   9.99         False   \n",
              "55              ['Single-player', 'Steam Trading Cards']   9.99         False   \n",
              "...                                                  ...    ...           ...   \n",
              "32109                                  ['Single-player']   4.99         False   \n",
              "32112                                  ['Single-player']  14.99         False   \n",
              "32114       ['Multi-player', 'Valve Anti-Cheat enabled']   4.99         False   \n",
              "32116  ['Single-player', 'Multi-player', 'Steam Tradi...  14.99         False   \n",
              "32117  ['Single-player', 'Multi-player', 'Valve Anti-...   9.99         False   \n",
              "\n",
              "                     sentiment  metascore  \n",
              "28     Overwhelmingly Positive       96.0  \n",
              "39             Mostly Positive       84.0  \n",
              "40               Very Positive       80.0  \n",
              "41               Very Positive       76.0  \n",
              "55             Mostly Positive       70.0  \n",
              "...                        ...        ...  \n",
              "32109            Very Positive       71.0  \n",
              "32112  Overwhelmingly Positive       88.0  \n",
              "32114            Very Positive       79.0  \n",
              "32116  Overwhelmingly Positive       93.0  \n",
              "32117            Very Positive       65.0  \n",
              "\n",
              "[2603 rows x 8 columns]"
            ]
          },
          "execution_count": 6,
          "metadata": {},
          "output_type": "execute_result"
        }
      ],
      "source": [
        "df_games.dropna()\n",
        "df_games.drop_duplicates()"
      ]
    },
    {
      "cell_type": "markdown",
      "metadata": {
        "id": "lUdHJA5x56Ps"
      },
      "source": [
        "Eb estos, casos, las columnas en price y release_data se consideraron de especial relevancia puesto qeu una es el valor objetivo y la otra representa uma de las pocas varialbes numericsa que se disponen."
      ]
    },
    {
      "cell_type": "code",
      "execution_count": 7,
      "metadata": {
        "id": "TOKX08SWrTqo"
      },
      "outputs": [],
      "source": [
        "# Fechas de lanzamiento\n",
        "df_games['release_date'] = pd.to_datetime(df_games['release_date'], errors='coerce').dt.year\n",
        "df_games = df_games.dropna(subset=['release_date']).copy()\n",
        "df_games['release_date'] = df_games['release_date'].astype('int')\n",
        "\n",
        "# Precios\n",
        "df_games['price'] = pd.to_numeric(df_games['price'], errors='coerce').copy()\n",
        "df_games = df_games.dropna(subset=['price']).copy()\n",
        "df_games['release_date'] = df_games['release_date'].astype('int').copy()"
      ]
    },
    {
      "cell_type": "markdown",
      "metadata": {
        "id": "QjvK96M27saZ"
      },
      "source": [
        "Cabe resaltar, que en la columna price existe una gran cantidad de categorias , pero este tipo de dato no representa una aproximacion, si no una actegoria que define a un juego como gratis. Es por ello, que ningun gratutito fue incluido dentro del analisis, y en cambio, en el desarrollo de la Api, se aclaro que el modelo solo funciona con modelos, por que se sobreentiende que el precio es 0 en caso de ser Free To Play"
      ]
    },
    {
      "cell_type": "markdown",
      "metadata": {
        "id": "7gaO1bxB-oRy"
      },
      "source": [
        "## **Outliers**\n",
        "\n",
        "Del dataset, solo se dispone de tres variables numericas a las cuales se le puede verficar el"
      ]
    },
    {
      "cell_type": "code",
      "execution_count": 9,
      "metadata": {
        "colab": {
          "base_uri": "https://localhost:8080/",
          "height": 278
        },
        "id": "cG1hxQBq-r1s",
        "outputId": "04ea42f5-c672-4dbe-b1c1-d3182b924fa4"
      },
      "outputs": [
        {
          "data": {
            "text/plain": [
              "<Axes: xlabel='price'>"
            ]
          },
          "execution_count": 9,
          "metadata": {},
          "output_type": "execute_result"
        },
        {
          "data": {
            "image/png": "[encoded data removed]",
            "text/plain": [
              "<Figure size 1500x500 with 2 Axes>"
            ]
          },
          "metadata": {},
          "output_type": "display_data"
        }
      ],
      "source": [
        "fig, ax = plt.subplots(1, 2,figsize=(15,5))\n",
        "\n",
        "sns.histplot(ax=ax[0], data=df_games, x='price')\n",
        "sns.boxplot(ax=ax[1], data=df_games, x='price')"
      ]
    },
    {
      "cell_type": "markdown",
      "metadata": {
        "id": "2AjPvx2fBlU0"
      },
      "source": [
        "Viendo los graficos, se puede ver como la distribucion de juegos esta presntre ente un rango entre los 2 doalres y 20. Lo mismo ocurre, en donde todos lso videojuegospor encima de 20 son considerados outliers.\n",
        "\n",
        "en este caso particular, solo le eliminaran los registros que esten por encima de 60 dolares. Peor la asucencia de juegos por encima de 20, podria ocasionar que el modelo mas impreciso, en rangos de precios por no tener muestrs con las cuales entrenar."
      ]
    },
    {
      "cell_type": "code",
      "execution_count": 10,
      "metadata": {
        "id": "Gp1A2v1rCEgB"
      },
      "outputs": [],
      "source": [
        "df_games = df_games[df_games['price'] < 60]"
      ]
    },
    {
      "cell_type": "markdown",
      "metadata": {
        "id": "A5xfiH-aOI43"
      },
      "source": [
        "Para el resto de variables categoriaas"
      ]
    },
    {
      "cell_type": "markdown",
      "metadata": {
        "id": "_a6kIzzylFfY"
      },
      "source": [
        "## **Precio**"
      ]
    },
    {
      "cell_type": "markdown",
      "metadata": {
        "id": "6FEMtQ6x3ONK"
      },
      "source": [
        "## **Variables Categoricas**\n",
        "\n",
        "## **Sentimiento**"
      ]
    },
    {
      "cell_type": "code",
      "execution_count": 12,
      "metadata": {
        "colab": {
          "base_uri": "https://localhost:8080/"
        },
        "id": "abedR_h_9Txm",
        "outputId": "d17a7fb0-57d7-4468-b9eb-a8cac356da9c"
      },
      "outputs": [
        {
          "data": {
            "text/plain": [
              "sentiment\n",
              "1 user reviews               10\n",
              "2 user reviews                9\n",
              "3 user reviews                7\n",
              "4 user reviews                6\n",
              "5 user reviews                6\n",
              "6 user reviews                7\n",
              "7 user reviews                9\n",
              "8 user reviews                9\n",
              "9 user reviews                7\n",
              "Mixed                       483\n",
              "Mostly Negative              50\n",
              "Mostly Positive             458\n",
              "Negative                      3\n",
              "Overwhelmingly Negative       2\n",
              "Overwhelmingly Positive     163\n",
              "Positive                    118\n",
              "Very Negative                 4\n",
              "Very Positive              1077\n",
              "Name: sentiment, dtype: int64"
            ]
          },
          "execution_count": 12,
          "metadata": {},
          "output_type": "execute_result"
        }
      ],
      "source": [
        "df_games.groupby('sentiment')['sentiment'].count()"
      ]
    },
    {
      "cell_type": "markdown",
      "metadata": {
        "id": "5xRX4BLr9ThJ"
      },
      "source": [
        "Como exisen sentimiento, que representan un numero de n reviews, en estos casos se prefirió tratar estos datos como un dato nuetro, en estos casos mixed, ya qye no se sabe coon scerta el numero de juegos"
      ]
    },
    {
      "cell_type": "code",
      "execution_count": 13,
      "metadata": {
        "colab": {
          "base_uri": "https://localhost:8080/"
        },
        "id": "jugKKTq53ms9",
        "outputId": "3e0bc690-e446-4feb-cb00-7c9961a0bab7"
      },
      "outputs": [
        {
          "data": {
            "text/plain": [
              "sentiment\n",
              "Mixed                       553\n",
              "Mostly Negative              50\n",
              "Mostly Positive             458\n",
              "Negative                      3\n",
              "Overwhelmingly Negative       2\n",
              "Overwhelmingly Positive     163\n",
              "Positive                    118\n",
              "Very Negative                 4\n",
              "Very Positive              1077\n",
              "Name: sentiment, dtype: int64"
            ]
          },
          "execution_count": 13,
          "metadata": {},
          "output_type": "execute_result"
        }
      ],
      "source": [
        "sentiments_mixes = [f'{x} user reviews' for x in range(1, 10)]\n",
        "df_games['sentiment'] = df_games['sentiment'].map(lambda x: 'Mixed' if x in sentiments_mixes else x)\n",
        "df_games.groupby('sentiment')['sentiment'].count()"
      ]
    },
    {
      "cell_type": "markdown",
      "metadata": {
        "id": "r5loPIXgVtPc"
      },
      "source": [
        "### **LabelEncoding**"
      ]
    },
    {
      "cell_type": "code",
      "execution_count": 17,
      "metadata": {
        "colab": {
          "base_uri": "https://localhost:8080/"
        },
        "id": "-tJJaKPIVskb",
        "outputId": "ca23b09c-0462-457e-99c1-ba8bd252cf0b"
      },
      "outputs": [
        {
          "data": {
            "text/plain": [
              "{'sentiment': {0: 0, 1: 1, 2: 2, 3: 3, 4: 4, 5: 5, 6: 6, 7: 7, 8: 8, 9: 9}}"
            ]
          },
          "execution_count": 17,
          "metadata": {},
          "output_type": "execute_result"
        }
      ],
      "source": [
        "label_encode_columns(df_games, ['early_access'])\n",
        "label_encode_columns(df_games, ['sentiment'])"
      ]
    },
    {
      "cell_type": "markdown",
      "metadata": {
        "id": "uYIxFOCTFHKJ"
      },
      "source": [
        "## **Nuevas columnas**"
      ]
    },
    {
      "cell_type": "markdown",
      "metadata": {
        "id": "SIvBVoIls8Fx"
      },
      "source": [
        "## **Numeros de Specificacioens y Tags**\n",
        "\n",
        "Se considero que el numero de especificaciones de un juego y las cantidad, por lo que se hizo un conteo de cuantas espeficaciones y tags tenia cada videojuego y se agreg a una nuevca columna."
      ]
    },
    {
      "cell_type": "code",
      "execution_count": 18,
      "metadata": {
        "id": "7CjSlspy180p"
      },
      "outputs": [],
      "source": [
        "number_of_items(df_games, 'tags')\n",
        "number_of_items(df_games, 'specs')"
      ]
    },
    {
      "cell_type": "markdown",
      "metadata": {
        "id": "hxAIOSwmtivI"
      },
      "source": [
        "### **Generos**"
      ]
    },
    {
      "cell_type": "code",
      "execution_count": 19,
      "metadata": {
        "id": "4NCATDxwoNKG"
      },
      "outputs": [],
      "source": [
        "genres = list(get_list_elements(df_games, 'genres'))\n",
        "for genre in genres:\n",
        "    tag_to_hot_encoding(df_games, 'genres', genre)"
      ]
    },
    {
      "cell_type": "markdown",
      "metadata": {
        "id": "Hx_kBhMdJ8RI"
      },
      "source": [
        "## **Selección de Features**"
      ]
    },
    {
      "cell_type": "code",
      "execution_count": null,
      "metadata": {
        "colab": {
          "base_uri": "https://localhost:8080/"
        },
        "id": "rKpB3yGppIgs",
        "outputId": "ce06d57f-f6cd-41ff-e280-915d2cd7380d"
      },
      "outputs": [
        {
          "data": {
            "text/plain": [
              "genres                    object\n",
              "release_date               int64\n",
              "tags                      object\n",
              "specs                     object\n",
              "price                    float64\n",
              "early_access               int64\n",
              "sentiment                  int64\n",
              "metascore                float64\n",
              "Number_of_tags             int64\n",
              "Number_of_specs            int64\n",
              "Action                     int64\n",
              "Strategy                   int64\n",
              "Indie                      int64\n",
              "RPG                        int64\n",
              "Casual                     int64\n",
              "Adventure                  int64\n",
              "Racing                     int64\n",
              "Simulation                 int64\n",
              "Massively Multiplayer      int64\n",
              "Sports                     int64\n",
              "Free to Play               int64\n",
              "Early Access               int64\n",
              "dtype: object"
            ]
          },
          "execution_count": 149,
          "metadata": {},
          "output_type": "execute_result"
        }
      ],
      "source": [
        "df_games.dtypes"
      ]
    },
    {
      "cell_type": "code",
      "execution_count": 20,
      "metadata": {
        "colab": {
          "base_uri": "https://localhost:8080/",
          "height": 787
        },
        "id": "Ku6uuTE0oNKw",
        "outputId": "76e7fe99-2994-4a15-f99e-7e96d08ea6c5"
      },
      "outputs": [
        {
          "ename": "ValueError",
          "evalue": "could not convert string to float: \"['Action']\"",
          "output_type": "error",
          "traceback": [
            "\u001b[0;31m---------------------------------------------------------------------------\u001b[0m",
            "\u001b[0;31mValueError\u001b[0m                                Traceback (most recent call last)",
            "Cell \u001b[0;32mIn[20], line 2\u001b[0m\n\u001b[1;32m      1\u001b[0m plt\u001b[39m.\u001b[39mfigure(figsize\u001b[39m=\u001b[39m(\u001b[39m10\u001b[39m, \u001b[39m10\u001b[39m))\n\u001b[0;32m----> 2\u001b[0m corr \u001b[39m=\u001b[39m df_games\u001b[39m.\u001b[39;49mcorr()\n\u001b[1;32m      3\u001b[0m sns\u001b[39m.\u001b[39mheatmap(corr, annot \u001b[39m=\u001b[39m \u001b[39mTrue\u001b[39;00m)\n",
            "File \u001b[0;32m~/.pyenv/versions/3.9.9/envs/steam_project/lib/python3.9/site-packages/pandas/core/frame.py:10054\u001b[0m, in \u001b[0;36mDataFrame.corr\u001b[0;34m(self, method, min_periods, numeric_only)\u001b[0m\n\u001b[1;32m  10052\u001b[0m cols \u001b[39m=\u001b[39m data\u001b[39m.\u001b[39mcolumns\n\u001b[1;32m  10053\u001b[0m idx \u001b[39m=\u001b[39m cols\u001b[39m.\u001b[39mcopy()\n\u001b[0;32m> 10054\u001b[0m mat \u001b[39m=\u001b[39m data\u001b[39m.\u001b[39;49mto_numpy(dtype\u001b[39m=\u001b[39;49m\u001b[39mfloat\u001b[39;49m, na_value\u001b[39m=\u001b[39;49mnp\u001b[39m.\u001b[39;49mnan, copy\u001b[39m=\u001b[39;49m\u001b[39mFalse\u001b[39;49;00m)\n\u001b[1;32m  10056\u001b[0m \u001b[39mif\u001b[39;00m method \u001b[39m==\u001b[39m \u001b[39m\"\u001b[39m\u001b[39mpearson\u001b[39m\u001b[39m\"\u001b[39m:\n\u001b[1;32m  10057\u001b[0m     correl \u001b[39m=\u001b[39m libalgos\u001b[39m.\u001b[39mnancorr(mat, minp\u001b[39m=\u001b[39mmin_periods)\n",
            "File \u001b[0;32m~/.pyenv/versions/3.9.9/envs/steam_project/lib/python3.9/site-packages/pandas/core/frame.py:1838\u001b[0m, in \u001b[0;36mDataFrame.to_numpy\u001b[0;34m(self, dtype, copy, na_value)\u001b[0m\n\u001b[1;32m   1836\u001b[0m \u001b[39mif\u001b[39;00m dtype \u001b[39mis\u001b[39;00m \u001b[39mnot\u001b[39;00m \u001b[39mNone\u001b[39;00m:\n\u001b[1;32m   1837\u001b[0m     dtype \u001b[39m=\u001b[39m np\u001b[39m.\u001b[39mdtype(dtype)\n\u001b[0;32m-> 1838\u001b[0m result \u001b[39m=\u001b[39m \u001b[39mself\u001b[39;49m\u001b[39m.\u001b[39;49m_mgr\u001b[39m.\u001b[39;49mas_array(dtype\u001b[39m=\u001b[39;49mdtype, copy\u001b[39m=\u001b[39;49mcopy, na_value\u001b[39m=\u001b[39;49mna_value)\n\u001b[1;32m   1839\u001b[0m \u001b[39mif\u001b[39;00m result\u001b[39m.\u001b[39mdtype \u001b[39mis\u001b[39;00m \u001b[39mnot\u001b[39;00m dtype:\n\u001b[1;32m   1840\u001b[0m     result \u001b[39m=\u001b[39m np\u001b[39m.\u001b[39marray(result, dtype\u001b[39m=\u001b[39mdtype, copy\u001b[39m=\u001b[39m\u001b[39mFalse\u001b[39;00m)\n",
            "File \u001b[0;32m~/.pyenv/versions/3.9.9/envs/steam_project/lib/python3.9/site-packages/pandas/core/internals/managers.py:1732\u001b[0m, in \u001b[0;36mBlockManager.as_array\u001b[0;34m(self, dtype, copy, na_value)\u001b[0m\n\u001b[1;32m   1730\u001b[0m         arr\u001b[39m.\u001b[39mflags\u001b[39m.\u001b[39mwriteable \u001b[39m=\u001b[39m \u001b[39mFalse\u001b[39;00m\n\u001b[1;32m   1731\u001b[0m \u001b[39melse\u001b[39;00m:\n\u001b[0;32m-> 1732\u001b[0m     arr \u001b[39m=\u001b[39m \u001b[39mself\u001b[39;49m\u001b[39m.\u001b[39;49m_interleave(dtype\u001b[39m=\u001b[39;49mdtype, na_value\u001b[39m=\u001b[39;49mna_value)\n\u001b[1;32m   1733\u001b[0m     \u001b[39m# The underlying data was copied within _interleave, so no need\u001b[39;00m\n\u001b[1;32m   1734\u001b[0m     \u001b[39m# to further copy if copy=True or setting na_value\u001b[39;00m\n\u001b[1;32m   1736\u001b[0m \u001b[39mif\u001b[39;00m na_value \u001b[39mis\u001b[39;00m \u001b[39mnot\u001b[39;00m lib\u001b[39m.\u001b[39mno_default:\n",
            "File \u001b[0;32m~/.pyenv/versions/3.9.9/envs/steam_project/lib/python3.9/site-packages/pandas/core/internals/managers.py:1794\u001b[0m, in \u001b[0;36mBlockManager._interleave\u001b[0;34m(self, dtype, na_value)\u001b[0m\n\u001b[1;32m   1792\u001b[0m     \u001b[39melse\u001b[39;00m:\n\u001b[1;32m   1793\u001b[0m         arr \u001b[39m=\u001b[39m blk\u001b[39m.\u001b[39mget_values(dtype)\n\u001b[0;32m-> 1794\u001b[0m     result[rl\u001b[39m.\u001b[39;49mindexer] \u001b[39m=\u001b[39m arr\n\u001b[1;32m   1795\u001b[0m     itemmask[rl\u001b[39m.\u001b[39mindexer] \u001b[39m=\u001b[39m \u001b[39m1\u001b[39m\n\u001b[1;32m   1797\u001b[0m \u001b[39mif\u001b[39;00m \u001b[39mnot\u001b[39;00m itemmask\u001b[39m.\u001b[39mall():\n",
            "\u001b[0;31mValueError\u001b[0m: could not convert string to float: \"['Action']\""
          ]
        },
        {
          "data": {
            "text/plain": [
              "<Figure size 1000x1000 with 0 Axes>"
            ]
          },
          "metadata": {},
          "output_type": "display_data"
        }
      ],
      "source": [
        "plt.figure(figsize=(10, 10))\n",
        "corr = df_games.corr()\n",
        "sns.heatmap(corr, annot = True)"
      ]
    },
    {
      "cell_type": "markdown",
      "metadata": {
        "id": "Y-c-Lz_O6m6Y"
      },
      "source": [
        "## **Evaluación de los Modelos**\n",
        "\n",
        "Como las características de los datos no resutaron favorabes para el entranimiento del modelo, se hará uso de un algoritmo de evaluacion de multiples modelos con el fin de determinar es mejor modelo para este caso en particular. A cada modelo se le aplicó un Grid-Search,"
      ]
    },
    {
      "cell_type": "code",
      "execution_count": 21,
      "metadata": {
        "id": "kodL8h9B7g3H"
      },
      "outputs": [],
      "source": [
        "# Models\n",
        "from sklearn.linear_model import LinearRegression\n",
        "from sklearn.linear_model import Lasso\n",
        "from sklearn.linear_model import Ridge\n",
        "from sklearn.linear_model import ElasticNet\n",
        "from sklearn.linear_model import Lars\n",
        "from sklearn.linear_model import SGDRegressor\n",
        "from sklearn.neighbors import KNeighborsRegressor\n",
        "from sklearn.tree import DecisionTreeRegressor\n",
        "from sklearn.ensemble import BaggingRegressor\n",
        "from sklearn.ensemble import RandomForestRegressor\n",
        "\n",
        "# Metricas de Evaluación\n",
        "from sklearn.metrics import mean_squared_error\n",
        "from sklearn.metrics import mean_absolute_error\n",
        "from sklearn.metrics import mean_absolute_error\n",
        "\n",
        "# Separa muestra de entrenamiento\n",
        "from sklearn.model_selection import train_test_split"
      ]
    },
    {
      "cell_type": "markdown",
      "metadata": {
        "id": "Y6Cc7hoE8OWn"
      },
      "source": [
        "A todos los modelos, se les aplico un grid search para hiperoptimizacion de parametros."
      ]
    },
    {
      "cell_type": "code",
      "execution_count": 22,
      "metadata": {
        "id": "uNuUeWW48KSO"
      },
      "outputs": [],
      "source": [
        "param_grid = {\n",
        "  'LinearRegression': {},\n",
        "  'Lasso': {'alpha': (np.logspace(-10, 10, 200))},\n",
        "  'Ridge': {'alpha': (np.logspace(-10, 10, 200))},\n",
        "  'ElasticNet': {'alpha': [0.1, 1.0, 10.0], 'l1_ratio': [0.25, 0.5, 0.75]},\n",
        "  'Lars': {},\n",
        "  'SGDRegressor': {'alpha': [0.0001, 0.001, 0.01], 'penalty': ['l1', 'l2']},\n",
        "  'KNeighborsRegressor': {'n_neighbors': [3, 5, 7]},\n",
        "  'DecisionTreeRegressor': {'max_depth': [None, 10, 20]},\n",
        "  'BaggingRegressor': {}\n",
        "}"
      ]
    },
    {
      "cell_type": "code",
      "execution_count": 23,
      "metadata": {
        "colab": {
          "base_uri": "https://localhost:8080/"
        },
        "id": "URpl5OB9RKRw",
        "outputId": "2a759149-877b-42e9-b535-1419d46476f9"
      },
      "outputs": [
        {
          "name": "stdout",
          "output_type": "stream",
          "text": [
            "LinearRegression | training time: 0.50 seconds, testing time: 0.02 seconds, 8.044460042419313\n",
            "Lasso | training time: 34.16 seconds, testing time: 0.02 seconds, 8.031268972897248\n",
            "Ridge | training time: 19.93 seconds, testing time: 0.01 seconds, 8.032053416572673\n",
            "ElasticNet | training time: 1.40 seconds, testing time: 0.02 seconds, 7.997343358561368\n",
            "Lars | training time: 0.22 seconds, testing time: 0.03 seconds, 8.044460042419336\n",
            "SGDRegressor | training time: 1.10 seconds, testing time: 0.01 seconds, 285038860309887.9\n",
            "KNeighborsRegressor | training time: 0.44 seconds, testing time: 0.02 seconds, 9.13165843991691\n",
            "DecisionTreeRegressor | training time: 0.33 seconds, testing time: 0.01 seconds, 10.474699560267391\n",
            "BaggingRegressor | training time: 0.60 seconds, testing time: 0.01 seconds, 8.058817636115988\n",
            "-----------------------------------\n",
            "Best regressor: ElasticNet\n",
            "Best hyperparameters: {'alpha': 0.1, 'l1_ratio': 0.75}\n",
            "Best R2: 36.992477908506004\n",
            "Best RMSE: 7.997343358561368\n",
            "Best RMA: 5.798693331395725\n"
          ]
        }
      ],
      "source": [
        "import time\n",
        "from sklearn.model_selection import GridSearchCV\n",
        "\n",
        "accuracies = {}\n",
        "hyperparameters = {}\n",
        "classifiers_models = {}\n",
        "RMSE = {}\n",
        "RMA = {}\n",
        "R2 = {}\n",
        "\n",
        "X = df_games[['release_date', 'Number_of_tags','Number_of_specs', 'metascore', 'sentiment','Indie', 'Casual', 'Action'\t,'Sports',\t'Racing',\t'Strategy',\t'RPG', 'Simulation']]\n",
        "y = df_games['price'].astype('float')\n",
        "\n",
        "X_train, X_test, y_train, y_test = train_test_split(X, y, test_size=0.33, random_state=42)\n",
        "\n",
        "models_params = [\n",
        "  (LinearRegression(), param_grid['LinearRegression']),\n",
        "  (Lasso(), param_grid['Lasso']),\n",
        "  (Ridge(), param_grid['Ridge']),\n",
        "  (ElasticNet(), param_grid['ElasticNet']),\n",
        "  (Lars(), param_grid['Lars']),\n",
        "  (SGDRegressor(), param_grid['SGDRegressor']),\n",
        "  (KNeighborsRegressor(), param_grid['KNeighborsRegressor']),\n",
        "  (DecisionTreeRegressor(), param_grid['DecisionTreeRegressor']),\n",
        "  (BaggingRegressor(), param_grid['BaggingRegressor'])\n",
        "]\n",
        "\n",
        "for model, params in models_params:\n",
        "  # Entrenamiento\n",
        "  start = time.time()\n",
        "  grid_clf = GridSearchCV(model, param_grid=params, cv=3)\n",
        "  grid_clf.fit(X_train,y_train)\n",
        "  end = time.time()\n",
        "  trainingTime = end - start\n",
        "\n",
        "  # Evaluación\n",
        "  start = time.time()\n",
        "  accuracy = grid_clf.score(X_test, y_test)\n",
        "  end = time.time()\n",
        "  testingTime = end - start\n",
        "\n",
        "  #Predicción\n",
        "  y_pred = grid_clf.predict(X_test)\n",
        "\n",
        "  # Resultado\n",
        "  accuracies[model.__class__.__name__] = accuracy\n",
        "  hyperparameters[model.__class__.__name__] = str(grid_clf.best_params_)\n",
        "  classifiers_models[model.__class__.__name__] = model\n",
        "  RMSE[model.__class__.__name__] =  mean_squared_error(y_test, y_pred, squared=False)\n",
        "  RMA[model.__class__.__name__]  = mean_absolute_error(y_test, y_pred)\n",
        "  R2[model.__class__.__name__] = accuracy * 100\n",
        "\n",
        "  print(f\"{model.__class__.__name__} | training time: {trainingTime:.2f} seconds, testing time: {testingTime:.2f} seconds, { mean_squared_error(y_test, y_pred, squared=False)}\")\n",
        "\n",
        "best_classifier = max(accuracies, key=accuracies.get)\n",
        "print(\"-----------------------------------\")\n",
        "print(f\"Best regressor: {best_classifier}\")\n",
        "print(f\"Best hyperparameters: {hyperparameters[best_classifier]}\")\n",
        "print(f\"Best R2: {R2[best_classifier]}\")\n",
        "print(f\"Best RMSE: {RMSE[best_classifier]}\")\n",
        "print(f\"Best RMA: {RMA[best_classifier]}\")"
      ]
    },
    {
      "cell_type": "markdown",
      "metadata": {
        "id": "xJ1nRUq3XCij"
      },
      "source": [
        "## **Exportar Modelo**"
      ]
    },
    {
      "cell_type": "markdown",
      "metadata": {
        "id": "-myh6funYWa0"
      },
      "source": [
        "El mejor modelo fue Lars, el cual es un modelo version de la regresion lineal especial para multiples features."
      ]
    },
    {
      "cell_type": "code",
      "execution_count": 24,
      "metadata": {
        "colab": {
          "base_uri": "https://localhost:8080/"
        },
        "id": "VTCg5lmoqFwK",
        "outputId": "97ed0630-d01d-4961-b5ac-d638615fc7fd"
      },
      "outputs": [
        {
          "data": {
            "text/plain": [
              "0.3624786798192112"
            ]
          },
          "execution_count": 24,
          "metadata": {},
          "output_type": "execute_result"
        }
      ],
      "source": [
        "model = Lars()\n",
        "model = GridSearchCV(model, param_grid=params, cv=3)\n",
        "model.fit(X_train,y_train)\n",
        "model.score(X_test, y_test)"
      ]
    },
    {
      "cell_type": "code",
      "execution_count": null,
      "metadata": {
        "id": "XsCRAV6HVuRX"
      },
      "outputs": [],
      "source": [
        "pkl_file = open('fitted_model.pkl', 'ab')\n",
        "pickle.dump(model, pkl_file)\n",
        "pkl_file.close()"
      ]
    }
  ],
  "metadata": {
    "colab": {
      "provenance": []
    },
    "kernelspec": {
      "display_name": "steam_project",
      "language": "python",
      "name": "python3"
    },
    "language_info": {
      "codemirror_mode": {
        "name": "ipython",
        "version": 3
      },
      "file_extension": ".py",
      "mimetype": "text/x-python",
      "name": "python",
      "nbconvert_exporter": "python",
      "pygments_lexer": "ipython3",
      "version": "3.9.9"
    },
    "orig_nbformat": 4
  },
  "nbformat": 4,
  "nbformat_minor": 0
}
