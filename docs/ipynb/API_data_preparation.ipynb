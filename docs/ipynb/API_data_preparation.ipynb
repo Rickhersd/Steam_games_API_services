{
  "nbformat": 4,
  "nbformat_minor": 0,
  "metadata": {
    "colab": {
      "provenance": []
    },
    "kernelspec": {
      "name": "python3",
      "display_name": "Python 3"
    },
    "language_info": {
      "name": "python"
    }
  },
  "cells": [
    {
      "cell_type": "markdown",
      "source": [
        "# **Preparación de Datos para Consumo de API**\n",
        "\n",
        "Para que el cliente pueda consumir la API proporcionada correctamente, es necesario priorizar la velocidad de las solicitudes y la calidad de los datos de respuestas minimizando errores de tokenización.\n",
        "\n",
        "Es por ello, que en este documento se realizaron las transformaciones necesarias para que la API fuera lo más óptima posible para los endpoints solicitados:\n",
        "\n",
        "- **Genero**: Se ingresa un año y devuelve una lista con los 5 géneros más ofrecidos en el orden correspondiente.\n",
        "\n",
        "- **Juegos**: Se ingresa un año y devuelve una lista con los juegos lanzados en el año.\n",
        "\n",
        "- **Specs**: Se ingresa un año y devuelve una lista con los 5 specs que más se repiten en el mismo en el orden correspondiente.\n",
        "\n",
        "- **Earlyacces**: Cantidad de juegos lanzados en un año con early access.\n",
        "\n",
        "- **Sentiment**: Según el año de lanzamiento, se devuelve una lista con la cantidad de registros que se encuentren categorizados con un análisis de sentimiento.\n",
        "\n",
        "- **Metascore**: Top 5 juegos según año con mayor metascore.\n",
        "\n",
        "Cabe resaltar que, de acuerdo a las características de estos End-points, el año de lanzamiento es la columna más importante y con la cual se tomó especial atención.\n",
        "\n",
        "## **Carga de Datos y Librerías**"
      ],
      "metadata": {
        "id": "l_e7sG_eLMtU"
      }
    },
    {
      "cell_type": "code",
      "source": [
        "import pandas as pd\n",
        "import pickle\n",
        "\n",
        "df = pd.read_csv('/content/drive/MyDrive/datasets/steam_games_PI.csv', index_col=[0])\n",
        "df.info()"
      ],
      "metadata": {
        "colab": {
          "base_uri": "https://localhost:8080/"
        },
        "id": "Po5NLDXNcc-j",
        "outputId": "4f633647-4dba-4355-f0d7-c52f3e9c64b6"
      },
      "execution_count": 82,
      "outputs": [
        {
          "output_type": "stream",
          "name": "stdout",
          "text": [
            "<class 'pandas.core.frame.DataFrame'>\n",
            "Int64Index: 32135 entries, 0 to 32134\n",
            "Data columns (total 16 columns):\n",
            " #   Column          Non-Null Count  Dtype  \n",
            "---  ------          --------------  -----  \n",
            " 0   publisher       24073 non-null  object \n",
            " 1   genres          28852 non-null  object \n",
            " 2   app_name        32133 non-null  object \n",
            " 3   title           30085 non-null  object \n",
            " 4   url             32135 non-null  object \n",
            " 5   release_date    30068 non-null  object \n",
            " 6   tags            31972 non-null  object \n",
            " 7   discount_price  225 non-null    float64\n",
            " 8   reviews_url     32133 non-null  object \n",
            " 9   specs           31465 non-null  object \n",
            " 10  price           30758 non-null  object \n",
            " 11  early_access    32135 non-null  bool   \n",
            " 12  id              32133 non-null  float64\n",
            " 13  developer       28836 non-null  object \n",
            " 14  sentiment       24953 non-null  object \n",
            " 15  metascore       2607 non-null   float64\n",
            "dtypes: bool(1), float64(3), object(12)\n",
            "memory usage: 4.0+ MB\n"
          ]
        }
      ]
    },
    {
      "cell_type": "markdown",
      "source": [
        "## **Datos nulos**\n",
        "\n",
        "Los datos nulos pueden generar problemas de tokenización al ser recibidos como JSON por parte del cliente. Por lo tanto, todos estos se trataron tomando diferentes consideraciones dependiendo del valor del dato."
      ],
      "metadata": {
        "id": "VGI7vvONWzYy"
      }
    },
    {
      "cell_type": "code",
      "source": [
        "df.isnull().sum()"
      ],
      "metadata": {
        "colab": {
          "base_uri": "https://localhost:8080/"
        },
        "id": "MNxjuZ4xLL0B",
        "outputId": "6c5cd5fc-3910-4966-83f9-592b7fbd97fe"
      },
      "execution_count": 83,
      "outputs": [
        {
          "output_type": "execute_result",
          "data": {
            "text/plain": [
              "publisher          8062\n",
              "genres             3283\n",
              "app_name              2\n",
              "title              2050\n",
              "url                   0\n",
              "release_date       2067\n",
              "tags                163\n",
              "discount_price    31910\n",
              "reviews_url           2\n",
              "specs               670\n",
              "price              1377\n",
              "early_access          0\n",
              "id                    2\n",
              "developer          3299\n",
              "sentiment          7182\n",
              "metascore         29528\n",
              "dtype: int64"
            ]
          },
          "metadata": {},
          "execution_count": 83
        }
      ]
    },
    {
      "cell_type": "markdown",
      "source": [
        "Ciertas columnas se consideraron indispensables para que un videojuego pudiera ser un registro válido de la API. Para estos casos, la ausencia del valor se trató eliminando por completo el registro. Estos campos fueron:\n",
        "\n",
        "- `id`\n",
        "- `App_name`\n",
        "\n",
        "Por otro lado, todos los endpoints solicitados hacen uso de la fecha, por lo que un videojuego sin fecha es un dato que nunca podría ser consultado."
      ],
      "metadata": {
        "id": "33gAWwF4dSck"
      }
    },
    {
      "cell_type": "code",
      "source": [
        "df = df[df['release_date'].notna()]\n",
        "df = df[df['id'].notna()]\n",
        "df = df[df['app_name'].notna()]"
      ],
      "metadata": {
        "id": "vfjhlIsXeu1o"
      },
      "execution_count": 84,
      "outputs": []
    },
    {
      "cell_type": "markdown",
      "source": [
        "Para `discount_price` y `price` los nulos se llenaron con ceros y en el resto de columnas, se agregó  un mensaje indicando la ausencia de los datos.\n"
      ],
      "metadata": {
        "id": "MeyyVznDeQzH"
      }
    },
    {
      "cell_type": "code",
      "source": [
        "# Mensajes de Ausencia\n",
        "df['developer'] = df['developer'].fillna('No_developer_registered')\n",
        "df['tags'] = df['tags'].fillna('tags')\n",
        "df['publisher'] = df['publisher'].fillna('no_publisher_registered')\n",
        "df['genres'] = df['genres'].fillna('no_genres_registered')\n",
        "df['sentiment'] = df['sentiment'].fillna('no_sentiment')\n",
        "df['metascore'] = df['metascore'].fillna('no_score')\n",
        "df['specs'] = df['specs'].fillna('no_specs')\n",
        "\n",
        "# Imputación con Ceros\n",
        "df['discount_price'] = df['discount_price'].fillna(0)\n",
        "df['price'] = df['price'].fillna(0)"
      ],
      "metadata": {
        "id": "nDGFb95Mebra"
      },
      "execution_count": 85,
      "outputs": []
    },
    {
      "cell_type": "markdown",
      "source": [
        "### **Fechas**\n",
        "\n",
        "Como se indicó antes, todos los endpoints solicitados hacen uso únicamente del año de lanzamiento de los videojuegos, por lo que se revisó que todas las fechas tuvieran el formato correcto: año-mes-día. De no serlo, se eliminó el registro."
      ],
      "metadata": {
        "id": "wE9_yZRNXu9F"
      }
    },
    {
      "cell_type": "code",
      "execution_count": 86,
      "metadata": {
        "colab": {
          "base_uri": "https://localhost:8080/"
        },
        "id": "jNjq2PRAGCnC",
        "outputId": "40a188d2-cfff-498f-b4fd-0cfd27c1f247"
      },
      "outputs": [
        {
          "output_type": "stream",
          "name": "stdout",
          "text": [
            "Número de registros eliminados: 243\n"
          ]
        }
      ],
      "source": [
        "df['release_date'] = pd.to_datetime(df['release_date'], format='%Y-%m-%d', errors='coerce')\n",
        "print('Número de registros eliminados:', df['release_date'].isna().sum())\n",
        "df = df.dropna(subset=['release_date'])"
      ]
    },
    {
      "cell_type": "markdown",
      "source": [
        "## **Columnas: App_name y Title**\n",
        "\n",
        "Para las columnas `app_name` y `title`, se consideró que el significado propuesto por el diccionario de datos era muy similiar para ambas columnas, por lo que se evaluó si ambas columnas contenían los mismos datos."
      ],
      "metadata": {
        "id": "JjCJZBxan7MU"
      }
    },
    {
      "cell_type": "code",
      "source": [
        "count = (df['title'] == df['app_name']).sum()\n",
        "print(count, 'valores de', df.shape[0], 'son iguales,', df.shape[0] - count, 'son diferentes')"
      ],
      "metadata": {
        "colab": {
          "base_uri": "https://localhost:8080/"
        },
        "id": "ho94R5kCgUev",
        "outputId": "5de6841d-e418-4a6d-bda9-3de8fa966192"
      },
      "execution_count": 87,
      "outputs": [
        {
          "output_type": "stream",
          "name": "stdout",
          "text": [
            "29269 valores de 29823 son iguales, 554 son diferentes\n"
          ]
        }
      ]
    },
    {
      "cell_type": "markdown",
      "source": [
        "De acuerdo a esto, ambas columnas eran redundantes entre sí teniendo solo 554 registros diferentes. En este sentido, una de estas se eliminó del dataframe: `title`, porque a diferencia de `app_name`, esta tuvo valores nulos al comienzo del análisis."
      ],
      "metadata": {
        "id": "M1HPfYf1pc74"
      }
    },
    {
      "cell_type": "code",
      "source": [
        "df = df.drop(\"title\", axis=1)"
      ],
      "metadata": {
        "id": "pG3NI25iqih1"
      },
      "execution_count": 88,
      "outputs": []
    },
    {
      "cell_type": "markdown",
      "source": [
        "### **Exportar Datos Serializados**\n",
        "\n",
        "En este punto, los datos ya estaban listos para ser consumidos por la API. Se exportaron en formato pkl para reducir el peso del archivo y mejorar la velocidad de las consultas."
      ],
      "metadata": {
        "id": "eEssBPgkW0EN"
      }
    },
    {
      "cell_type": "code",
      "source": [
        "pkl_file = open('games_steam.pkl', 'ab')\n",
        "pickle.dump(df, pkl_file)\n",
        "pkl_file.close()"
      ],
      "metadata": {
        "id": "9tHCsN3mXC6Q"
      },
      "execution_count": 89,
      "outputs": []
    }
  ]
}